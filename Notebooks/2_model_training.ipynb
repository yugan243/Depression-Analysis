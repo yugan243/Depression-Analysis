{
 "cells": [
  {
   "cell_type": "markdown",
   "id": "e7e8acdc",
   "metadata": {},
   "source": [
    "### 1. Import Dependencies"
   ]
  },
  {
   "cell_type": "code",
   "execution_count": 27,
   "id": "726aba80",
   "metadata": {},
   "outputs": [],
   "source": [
    "import pandas as pd\n",
    "import numpy as np\n",
    "from sklearn.model_selection import train_test_split, StratifiedKFold, cross_val_score\n",
    "from sklearn.ensemble import RandomForestClassifier\n",
    "from sklearn.metrics import accuracy_score, classification_report   \n",
    "import optuna\n",
    "from xgboost import XGBClassifier\n",
    "from catboost import CatBoostClassifier"
   ]
  },
  {
   "cell_type": "markdown",
   "id": "3bc7911a",
   "metadata": {},
   "source": [
    "### 2. Load Data"
   ]
  },
  {
   "cell_type": "code",
   "execution_count": 28,
   "id": "2cff7b27",
   "metadata": {},
   "outputs": [],
   "source": [
    "train_df = pd.read_csv('../Data/Processed/DP_train_encoded.csv')\n",
    "test_df = pd.read_csv('../Data/Processed/DP_test_encoded.csv')"
   ]
  },
  {
   "cell_type": "markdown",
   "id": "202d5372",
   "metadata": {},
   "source": [
    "### 3. Split the data into Train and Test"
   ]
  },
  {
   "cell_type": "code",
   "execution_count": 29,
   "id": "68bf0477",
   "metadata": {},
   "outputs": [],
   "source": [
    "X = train_df.drop(columns=['Depression', 'id'])\n",
    "Y = train_df['Depression']\n",
    "test = test_df.drop(columns=['id'])\n",
    "test_ids = test_df['id']"
   ]
  },
  {
   "cell_type": "code",
   "execution_count": 30,
   "id": "be746d45",
   "metadata": {},
   "outputs": [],
   "source": [
    "X_train, X_test, Y_train, Y_test = train_test_split(X, Y, test_size=0.2, random_state=42)"
   ]
  },
  {
   "cell_type": "markdown",
   "id": "367cd2d0",
   "metadata": {},
   "source": [
    "### 4. Model Training"
   ]
  },
  {
   "cell_type": "markdown",
   "id": "d036fc1f",
   "metadata": {},
   "source": [
    "#### 4.1 Random Forest Classifier with Cross Validation"
   ]
  },
  {
   "cell_type": "code",
   "execution_count": 31,
   "id": "b44415c0",
   "metadata": {},
   "outputs": [],
   "source": [
    "model_rfc = RandomForestClassifier(\n",
    "                                    n_estimators=200,\n",
    "                                    max_depth=None,\n",
    "                                    min_samples_split=2,\n",
    "                                    min_samples_leaf=1,\n",
    "                                    random_state=42,\n",
    "                                    n_jobs=-1\n",
    "                                    )\n",
    "\n",
    "skf = StratifiedKFold(n_splits=5, shuffle=True, random_state=42)\n",
    "\n",
    "cv_scores = cross_val_score(model_rfc, X_train, Y_train, cv=skf, scoring='accuracy', n_jobs=-1)"
   ]
  },
  {
   "cell_type": "code",
   "execution_count": 32,
   "id": "15edc142",
   "metadata": {},
   "outputs": [
    {
     "name": "stdout",
     "output_type": "stream",
     "text": [
      "Cross-validation scores: [0.93650441 0.93765852 0.93832599 0.93583411 0.93574512]\n",
      "Mean accuracy: 0.9368\n",
      "Std deviation: 0.0010\n"
     ]
    }
   ],
   "source": [
    "print(f\"Cross-validation scores: {cv_scores}\")\n",
    "print(f\"Mean accuracy: {np.mean(cv_scores):.4f}\")\n",
    "print(f\"Std deviation: {np.std(cv_scores):.4f}\")\n",
    "\n",
    "# 5️⃣ Train final model on full training data\n",
    "model_rfc.fit(X_train, Y_train)\n",
    "\n",
    "# 6️⃣ Predict on test set\n",
    "y_pred = model_rfc.predict(X_test)"
   ]
  },
  {
   "cell_type": "code",
   "execution_count": 34,
   "id": "3b34d5fb",
   "metadata": {},
   "outputs": [],
   "source": [
    "y_hat_pred = model_rfc.predict(test)"
   ]
  }
 ],
 "metadata": {
  "kernelspec": {
   "display_name": "Dprsn",
   "language": "python",
   "name": "python3"
  },
  "language_info": {
   "codemirror_mode": {
    "name": "ipython",
    "version": 3
   },
   "file_extension": ".py",
   "mimetype": "text/x-python",
   "name": "python",
   "nbconvert_exporter": "python",
   "pygments_lexer": "ipython3",
   "version": "3.11.13"
  }
 },
 "nbformat": 4,
 "nbformat_minor": 5
}
